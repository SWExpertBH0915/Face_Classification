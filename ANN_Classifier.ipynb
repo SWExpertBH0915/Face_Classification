{
 "cells": [
  {
   "cell_type": "code",
   "execution_count": 2,
   "metadata": {},
   "outputs": [],
   "source": [
    "from sklearn.neural_network import MLPClassifier\n",
    "import pickle\n",
    "import warnings\n",
    "from sklearn.exceptions import ConvergenceWarning\n",
    "from sklearn import preprocessing\n",
    "import keras\n",
    "from keras import layers\n",
    "from keras.models import Sequential\n",
    "from keras.layers import Dense"
   ]
  },
  {
   "cell_type": "code",
   "execution_count": 3,
   "metadata": {},
   "outputs": [],
   "source": [
    "root_embedding = './embedding/'"
   ]
  },
  {
   "cell_type": "code",
   "execution_count": 4,
   "metadata": {},
   "outputs": [],
   "source": [
    "f = open(root_embedding + 'train.pickle', 'rb')\n",
    "data = pickle.load(f)\n",
    "f.close()\n",
    "X_train = data['embeddings']\n",
    "y_train = data['labels']"
   ]
  },
  {
   "cell_type": "code",
   "execution_count": 5,
   "metadata": {},
   "outputs": [],
   "source": [
    "f = open(root_embedding + 'test.pickle', 'rb')\n",
    "data = pickle.load(f)\n",
    "f.close()\n",
    "X_test = data['embeddings']\n",
    "y_test = data['labels']"
   ]
  },
  {
   "cell_type": "code",
   "execution_count": 6,
   "metadata": {},
   "outputs": [],
   "source": [
    "f = open(root_embedding + 'val.pickle', 'rb')\n",
    "data = pickle.load(f)\n",
    "f.close()\n",
    "X_val = data['embeddings']\n",
    "y_val = data['labels']"
   ]
  },
  {
   "cell_type": "code",
   "execution_count": 7,
   "metadata": {},
   "outputs": [],
   "source": [
    "min_max_scaler = preprocessing.MinMaxScaler()\n",
    "X_train_minmax = min_max_scaler.fit_transform(X_train)"
   ]
  },
  {
   "cell_type": "code",
   "execution_count": 8,
   "metadata": {},
   "outputs": [],
   "source": [
    "X_val_minmax = min_max_scaler.fit_transform(X_val)"
   ]
  },
  {
   "cell_type": "code",
   "execution_count": 9,
   "metadata": {},
   "outputs": [],
   "source": [
    "X_test_minmax = min_max_scaler.transform(X_test)"
   ]
  },
  {
   "cell_type": "code",
   "execution_count": 10,
   "metadata": {},
   "outputs": [],
   "source": [
    "# print(X_train[:10])\n",
    "y_train_new = []\n",
    "for y in y_train:\n",
    "    match y:\n",
    "        case 'explorers':\n",
    "            y_train_new.append(0)\n",
    "        case 'healers':\n",
    "            y_train_new.append(1)\n",
    "        case 'knights':\n",
    "            y_train_new.append(2)\n",
    "        case 'wizards':\n",
    "            y_train_new.append(3)"
   ]
  },
  {
   "cell_type": "code",
   "execution_count": 11,
   "metadata": {},
   "outputs": [],
   "source": [
    "from sklearn.utils import shuffle\n",
    "X_train_shuffle, y_train_shuffle = shuffle(X_train, y_train_new, random_state=42)"
   ]
  },
  {
   "cell_type": "code",
   "execution_count": 27,
   "metadata": {},
   "outputs": [],
   "source": [
    "# classifier = Sequential()\n",
    "\n",
    "# classifier.add(Dense(units = 512, kernel_initializer = 'uniform', activation = 'relu', input_dim = 512))\n",
    "# classifier.add(Dense(units = 1024, kernel_initializer = 'uniform', activation = 'relu'))\n",
    "# classifier.add(Dense(units = 1024, kernel_initializer = 'uniform', activation = 'relu'))\n",
    "# classifier.add(Dense(units = 512, kernel_initializer = 'uniform', activation = 'relu'))\n",
    "# classifier.add(Dense(units = 128, kernel_initializer = 'uniform', activation = 'relu'))\n",
    "# classifier.add(Dense(units = 4, kernel_initializer = 'uniform', activation = 'sigmoid'))\n",
    "# classifier.compile(optimizer = 'adam', loss = 'binary_crossentropy', metrics = ['accuracy'])"
   ]
  },
  {
   "cell_type": "code",
   "execution_count": 13,
   "metadata": {},
   "outputs": [],
   "source": [
    "model = keras.Sequential(\n",
    "    [\n",
    "        keras.Input(shape=(512,)),\n",
    "        layers.Dense(1024),\n",
    "        layers.Dense(512),\n",
    "        layers.Dropout(0.5),\n",
    "        layers.Dense(4),\n",
    "    ]\n",
    ")\n",
    "model.compile(\n",
    "    loss=keras.losses.SparseCategoricalCrossentropy(from_logits=True),\n",
    "    optimizer=keras.optimizers.RMSprop(),\n",
    "    metrics=[keras.metrics.SparseCategoricalAccuracy()],\n",
    ")"
   ]
  },
  {
   "cell_type": "code",
   "execution_count": 28,
   "metadata": {},
   "outputs": [
    {
     "name": "stdout",
     "output_type": "stream",
     "text": [
      "Model: \"sequential_8\"\n",
      "_________________________________________________________________\n",
      " Layer (type)                Output Shape              Param #   \n",
      "=================================================================\n",
      " dense_43 (Dense)            (None, 512)               262656    \n",
      "                                                                 \n",
      " dense_44 (Dense)            (None, 1024)              525312    \n",
      "                                                                 \n",
      " dense_45 (Dense)            (None, 1024)              1049600   \n",
      "                                                                 \n",
      " dense_46 (Dense)            (None, 512)               524800    \n",
      "                                                                 \n",
      " dense_47 (Dense)            (None, 128)               65664     \n",
      "                                                                 \n",
      " dense_48 (Dense)            (None, 4)                 516       \n",
      "                                                                 \n",
      "=================================================================\n",
      "Total params: 2,428,548\n",
      "Trainable params: 2,428,548\n",
      "Non-trainable params: 0\n",
      "_________________________________________________________________\n"
     ]
    }
   ],
   "source": [
    "# classifier.summary()"
   ]
  },
  {
   "cell_type": "code",
   "execution_count": null,
   "metadata": {},
   "outputs": [],
   "source": [
    "# classifier.fit(X_train, y_train_new, batch_size = 10, epochs = 100, verbose = 0)"
   ]
  },
  {
   "cell_type": "code",
   "execution_count": 15,
   "metadata": {},
   "outputs": [
    {
     "data": {
      "text/plain": [
       "<keras.callbacks.History at 0x1900068f8e0>"
      ]
     },
     "execution_count": 15,
     "metadata": {},
     "output_type": "execute_result"
    }
   ],
   "source": [
    "model.fit(X_train_shuffle, y_train_shuffle, batch_size = 10, epochs = 100, verbose = 0)"
   ]
  },
  {
   "cell_type": "code",
   "execution_count": 16,
   "metadata": {},
   "outputs": [],
   "source": [
    "y_test_new = []\n",
    "for y in y_test:\n",
    "    match y:\n",
    "        case 'explorers':\n",
    "            y_test_new.append(0)\n",
    "        case 'healers':\n",
    "            y_test_new.append(1)\n",
    "        case 'knights':\n",
    "            y_test_new.append(2)\n",
    "        case 'wizards':\n",
    "            y_test_new.append(3)"
   ]
  },
  {
   "cell_type": "code",
   "execution_count": 17,
   "metadata": {},
   "outputs": [
    {
     "name": "stdout",
     "output_type": "stream",
     "text": [
      "65/65 [==============================] - 6s 5ms/step\n"
     ]
    }
   ],
   "source": [
    "prediction = model.predict(X_test)"
   ]
  },
  {
   "cell_type": "code",
   "execution_count": 18,
   "metadata": {},
   "outputs": [
    {
     "name": "stdout",
     "output_type": "stream",
     "text": [
      "65/65 [==============================] - 1s 4ms/step - loss: 1.5292 - sparse_categorical_accuracy: 0.2705\n"
     ]
    },
    {
     "data": {
      "text/plain": [
       "[1.5291980504989624, 0.2704678475856781]"
      ]
     },
     "execution_count": 18,
     "metadata": {},
     "output_type": "execute_result"
    }
   ],
   "source": [
    "model.evaluate(X_test, y_test_new)"
   ]
  },
  {
   "cell_type": "code",
   "execution_count": 19,
   "metadata": {},
   "outputs": [],
   "source": [
    "model.save('./ANNModel_new.h5', overwrite=True, save_format='h5')"
   ]
  }
 ],
 "metadata": {
  "kernelspec": {
   "display_name": "Python 3",
   "language": "python",
   "name": "python3"
  },
  "language_info": {
   "codemirror_mode": {
    "name": "ipython",
    "version": 3
   },
   "file_extension": ".py",
   "mimetype": "text/x-python",
   "name": "python",
   "nbconvert_exporter": "python",
   "pygments_lexer": "ipython3",
   "version": "3.10.4"
  },
  "orig_nbformat": 4
 },
 "nbformat": 4,
 "nbformat_minor": 2
}
